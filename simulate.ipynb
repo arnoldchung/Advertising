{
 "cells": [
  {
   "cell_type": "code",
   "execution_count": null,
   "metadata": {},
   "outputs": [],
   "source": [
    "# Advertising Simulator\n",
    "# This program simulates the advertising of a product over a period of time.\n",
    "# It will simulate the number of people who have seen the product advertising, brand experience, and product experience.\n",
    "\n",
    "import numpy as np\n",
    "import pandas as pd \n",
    "import math\n",
    "import seaborn as sns\n",
    "import matplotlib.pyplot as plt\n",
    "from advertising import *"
   ]
  }
 ],
 "metadata": {
  "language_info": {
   "name": "python"
  }
 },
 "nbformat": 4,
 "nbformat_minor": 2
}
